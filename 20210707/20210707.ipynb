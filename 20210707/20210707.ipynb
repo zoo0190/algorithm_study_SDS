{
 "cells": [
  {
   "cell_type": "markdown",
   "metadata": {},
   "source": [
    "# 6장 문자열 조작"
   ]
  },
  {
   "cell_type": "markdown",
   "metadata": {},
   "source": [
    "## 4 가장 흔한 단어\n",
    "### 금지된 단어를 제외한 가장 흔하게 등장하는 단어를 출력하라. 대소문자 구분을 하지 않으며, 구두점(마침표, 쉼표 등) 또한 무시한다."
   ]
  },
  {
   "cell_type": "code",
   "execution_count": 9,
   "metadata": {},
   "outputs": [
    {
     "name": "stdout",
     "output_type": "stream",
     "text": [
      "['bob', 'a', 'ball', 'the', 'ball', 'flew', 'far', 'after', 'it', 'was']\n",
      "Counter({'ball': 2, 'bob': 1, 'a': 1, 'the': 1, 'flew': 1, 'far': 1, 'after': 1, 'it': 1, 'was': 1})\n"
     ]
    },
    {
     "data": {
      "text/plain": [
       "'ball'"
      ]
     },
     "execution_count": 9,
     "metadata": {},
     "output_type": "execute_result"
    }
   ],
   "source": [
    "import re\n",
    "import collections\n",
    "\n",
    "def mostCommonWord(paragraph, banned):\n",
    "    # 정규식에서 \\w는 단어 문자(Word Character)를 뜻하며, ^은 not을 의미\n",
    "    words = [word for word in re.sub(r'[^\\w]', ' ', paragraph)\n",
    "             .lower().split()\n",
    "                 if word not in banned]\n",
    "    print(words)\n",
    "    counts = collections.Counter(words)\n",
    "    print(counts)\n",
    "    # 가장 흔하게 등장하는 단어의 첫 번째 인덱스 리턴\n",
    "    return counts.most_common(1)[0][0]\n",
    "\n",
    "paragraph = \"Bob hit a ball, the hit BALL flew far after it was hit.\"\n",
    "banned = [\"hit\"]\n",
    "\n",
    "mostCommonWord(paragraph, banned)"
   ]
  },
  {
   "cell_type": "markdown",
   "metadata": {},
   "source": [
    "## 5 그룹 애너그램\n",
    "### 문자열 배열을 받아 애너그램 단위로 그룹핑하라.\n",
    "#### '애너그램'이란...?\n",
    "- 문자를 재배열하여 다른 뜻을 가진 단어로 바꾸는 것을 말함"
   ]
  },
  {
   "cell_type": "code",
   "execution_count": null,
   "metadata": {},
   "outputs": [],
   "source": [
    "# anagrams = collections.defaultdict(list)\n",
    "# anagrams\n",
    "# defaultdict(<class 'list'>, {}) // 디폴트값이 list인 딕셔너리\n",
    "# anagrams['key1'] // 값을 지정하지 않으면 빈 리스트로 초기화 []\n",
    "# anagrams['key2'] = 'test' // 값을 지정하면 해당값으로 초기화\n",
    "# anagrams\n",
    "# defaultdict(<class 'list'>, {'key1': [], 'key2': 'test2'})"
   ]
  },
  {
   "cell_type": "code",
   "execution_count": 13,
   "metadata": {},
   "outputs": [
    {
     "name": "stdout",
     "output_type": "stream",
     "text": [
      "defaultdict(<class 'list'>, {})\n"
     ]
    },
    {
     "data": {
      "text/plain": [
       "dict_values([['eat', 'tea', 'ate'], ['tan', 'nat'], ['bat']])"
      ]
     },
     "execution_count": 13,
     "metadata": {},
     "output_type": "execute_result"
    }
   ],
   "source": [
    "# sorted 함수는 모든 iterable에 동작한다 (list, tuple, dict, 문자열 등)\n",
    "# sorted(iterable[, key=<function>][. reverse=<True|False>])\n",
    "# sorted 함수는 정렬 후 정렬 된 것을 return // 원본 리스트에 영향 X\n",
    "# sort 함수의 return 값은 None // 원본 리스트 자체를 정렬한다.\n",
    "\n",
    "def groupAnagrams(strs):\n",
    "    anagrams = collections.defaultdict(list)\n",
    "    print(anagrams)\n",
    "    for word in strs:\n",
    "        # 정렬하여 딕셔너리에 추가 (예시 추가)\n",
    "        # 1. eat\n",
    "        # 2. sorted(eat) => ['a', 'e', 't']\n",
    "        # 3. ''.join(sorted(word)) => ate\n",
    "        # 4. anagrams[''.join(sorted(word))] => anagrams[ate] => {'aet': []}\n",
    "        # 5. anagrams[''.join(sorted(word))].append(word) => {'aet': [eat]}\n",
    "        anagrams[''.join(sorted(word))].append(word)\n",
    "    return anagrams.values()\n",
    "\n",
    "strs = [\"eat\", \"tea\", \"tan\", \"ate\", \"nat\", \"bat\"]\n",
    "\n",
    "groupAnagrams(strs)"
   ]
  },
  {
   "cell_type": "markdown",
   "metadata": {},
   "source": [
    "## 6 가장 긴 팰린드롬 부분 문자열\n",
    "### 가장 긴 팰린드롬 부분 문자열을 출력하라"
   ]
  },
  {
   "cell_type": "code",
   "execution_count": 16,
   "metadata": {},
   "outputs": [
    {
     "name": "stdout",
     "output_type": "stream",
     "text": [
      "0 1\n",
      "1 2\n",
      "2 3\n",
      "1 4\n",
      "0 5\n",
      "3 4\n",
      "4 5\n",
      "4 6\n"
     ]
    },
    {
     "data": {
      "text/plain": [
       "'abcba'"
      ]
     },
     "execution_count": 16,
     "metadata": {},
     "output_type": "execute_result"
    }
   ],
   "source": [
    "def longestPalindrome(s):\n",
    "    # 팰린드롬 판별 및 투 포인터 확장\n",
    "    def expand(left, right):\n",
    "        while left >= 0 and right <= len(s) and s[left] == s[right-1]:\n",
    "            left -= 1\n",
    "            right += 1\n",
    "            print(left + 1, right -1)\n",
    "        return s[left + 1:right -1]\n",
    "    \n",
    "    # 해당 사항이 없을 때 빠르게 리턴\n",
    "    if len(s) < 2 or s == s[::-1]:\n",
    "        return s\n",
    "    \n",
    "    result = ''\n",
    "    \n",
    "    ## max(첫 번쨰 인자, 두 번째 인자, 세 번째 인자, 기준값)\n",
    "    for i in range(len(s) - 1):\n",
    "        result = max(result, expand(i, i + 1), expand(i, i + 2), key=len)\n",
    "    \n",
    "    return result\n",
    "\n",
    "s = 'abcbaa'\n",
    "\n",
    "longestPalindrome(s)"
   ]
  },
  {
   "cell_type": "code",
   "execution_count": null,
   "metadata": {},
   "outputs": [],
   "source": []
  }
 ],
 "metadata": {
  "kernelspec": {
   "display_name": "Python 3",
   "language": "python",
   "name": "python3"
  },
  "language_info": {
   "codemirror_mode": {
    "name": "ipython",
    "version": 3
   },
   "file_extension": ".py",
   "mimetype": "text/x-python",
   "name": "python",
   "nbconvert_exporter": "python",
   "pygments_lexer": "ipython3",
   "version": "3.8.7"
  }
 },
 "nbformat": 4,
 "nbformat_minor": 4
}
